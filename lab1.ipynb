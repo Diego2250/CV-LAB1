{
 "cells": [
  {
   "cell_type": "markdown",
   "metadata": {},
   "source": [
    "# Laboratorio 01\n",
    "\n",
    "Universidad del Valle de Guatemala, Visión por Computadora, 2025\n",
    "Realizado por Diego Morales, Angel Castellanos, Alejandro Azurdia\n"
   ]
  },
  {
   "cell_type": "markdown",
   "metadata": {},
   "source": [
    "## 1. Implementar en Python una función que haga la ecualización de histograma para una imagen en escala de grises (8 bits).\n",
    "\n",
    "Mostrar a través de ejemplos la imagen original y la imagen ecualizada. Mostrar también los histogramas normalizados y su distribución acumulada de ambas imágenes. Comparar los resultados de su función contra alguna función ya predefinida en Python para calcular ecualizaciones. Por ejemplo, en scikit-image, tenemos la función skimage.exposure.equalize hist; o en OpenCV, tenemos la función cv2.equalizeHist. ¿Son iguales sus resultados con los de la función de Python? Explique por qué son iguales o explique por qué hay diferencias."
   ]
  }
 ],
 "metadata": {
  "language_info": {
   "name": "python"
  }
 },
 "nbformat": 4,
 "nbformat_minor": 2
}
